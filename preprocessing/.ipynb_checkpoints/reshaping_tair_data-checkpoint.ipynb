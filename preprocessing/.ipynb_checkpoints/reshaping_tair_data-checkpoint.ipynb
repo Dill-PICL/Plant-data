{
 "cells": [
  {
   "cell_type": "markdown",
   "metadata": {},
   "source": [
    "## Reading in data available through The Arabidopsis Information Resource (TAIR) database<br>\n",
    "The purpose of this notebook is to read in and do a preliminary survey of the data related to text and ontology annotations of text that is available through TAIR. The datasets need to be organized and also restructured into a standard format that will allow it be combined with datasets from other resources. This notebook takes the following input files that were downloaded from the TAIR and produces a set of files that have standard columns, which are listed and described below.<br>\n",
    "<br>\n",
    "### Files read<br>\n",
    "```<br>\n",
    "plant-data/databases/tair/Locus_Germplasm_Phenotype_20190930.txt<br>\n",
    "plant-data/databases/tair/<br>\n",
    "plant-data/databases/tair/po_anatomy_gene_arabidopsis_tair.assoc<br>\n",
    "plant-data/databases/tair/po_temporal_gene_arabidopsis_tair.assoc<br>\n",
    "plant-data/databases/tair/ATH_GO_GOSLIM.txt<br>\n",
    "```<br>\n",
    "<br>\n",
    "### Files created<br>\n",
    "```<br>\n",
    "plant-data/reshaped_data/tair_phenotype_descriptions.csv<br>\n",
    "plant-data/reshaped_data/tair_general_descriptions.csv<br>\n",
    "plant-data/reshaped_data/tair_all_go_annotations.csv<br>\n",
    "plant-data/reshaped_data/tair_curated_go_annotations.csv<br>\n",
    "plant-data/reshaped_data/tair_curated_po_annotations.csv<br>\n",
    "```<br>\n",
    "<br>\n",
    "### Columns in the created files<br>\n",
    "* **species**: A string indicating what species the gene is in, currently uses the 3-letter codes from the KEGG database.<br>\n",
    "* **unique_gene_identifiers**: Pipe delimited list of gene identifiers, names, models, etc which must uniquely refer to this gene.<br>\n",
    "* **other_gene_identifiers**: Pipe delimited list of other identifiers, names, aliases, synonyms for the gene, which may but do not have to uniquely refer to it.<br>\n",
    "* **gene_models**: Pipe delimited list of gene model names that map to this gene.<br>\n",
    "* **descriptions**: A free text field for any descriptions of phenotypes associated with this gene.<br>\n",
    "* **annotations**: Pipe delimited list of gene ontology term identifiers.<br>\n",
    "* **sources**: Pipe delimited list of strings that indicate where this data comes from such as database names."
   ]
  },
  {
   "cell_type": "code",
   "execution_count": 1,
   "metadata": {},
   "outputs": [],
   "source": [
    "import matplotlib.pyplot as plt\n",
    "import matplotlib as mpl\n",
    "import seaborn as sns\n",
    "import sys\n",
    "import os\n",
    "import re\n",
    "import warnings\n",
    "import pandas as pd\n",
    "import numpy as np\n",
    "import itertools\n",
    "import re\n",
    "import matplotlib.pyplot as plt\n",
    "from nltk.tokenize import word_tokenize\n",
    "from nltk.tokenize import sent_tokenize"
   ]
  },
  {
   "cell_type": "code",
   "execution_count": null,
   "metadata": {},
   "outputs": [],
   "source": [
    "sys.path.append(\"../utils\")\n",
    "from constants import NCBI_TAG, EVIDENCE_CODES, ABBREVIATIONS_MAP"
   ]
  },
  {
   "cell_type": "code",
   "execution_count": null,
   "metadata": {},
   "outputs": [],
   "source": [
    "sys.path.append(\"../../oats\")\n",
    "from oats.nlp.preprocess import concatenate_with_delim, subtract_string_lists, replace_delimiter, concatenate_texts\n",
    "from oats.nlp.small import remove_punctuation, remove_enclosing_brackets, add_prefix_safely"
   ]
  },
  {
   "cell_type": "code",
   "execution_count": null,
   "metadata": {},
   "outputs": [],
   "source": [
    "OUTPUT_DIR = \"../reshaped_data\"\n",
    "mpl.rcParams[\"figure.dpi\"] = 200\n",
    "warnings.simplefilter('ignore')\n",
    "pd.set_option('display.max_rows', 500)\n",
    "pd.set_option('display.max_columns', 500)\n",
    "pd.set_option('display.width', 1000)"
   ]
  },
  {
   "cell_type": "code",
   "execution_count": null,
   "metadata": {},
   "outputs": [],
   "source": [
    "#Columns that should be in the final reshaped files.\n",
    "reshaped_columns = [\"species\", \n",
    " \"unique_gene_identifiers\", \n",
    " \"other_gene_identifiers\", \n",
    " \"gene_models\", \n",
    " \"descriptions\", \n",
    " \"annotations\", \n",
    " \"sources\"]"
   ]
  },
  {
   "cell_type": "code",
   "execution_count": null,
   "metadata": {},
   "outputs": [],
   "source": [
    "#Creating and testing a lambda for finding gene model strings.\n",
    "gene_model_pattern = re.compile(\"at[0-9]{1}g[0-9]+\")\n",
    "is_gene_model = lambda s: bool(gene_model_pattern.match(s.lower()))\n",
    "assert is_gene_model(\"AT1G34534\") == True\n",
    "assert is_gene_model(\"at2g23452\") == True\n",
    "assert is_gene_model(\"ACAB1\") == False"
   ]
  },
  {
   "cell_type": "markdown",
   "metadata": {},
   "source": [
    "### File with genes and phenotype descriptions (Locus_Germplasm_Phenotype_20180702.txt)<br>\n",
    "Reading in the dataset of phenotypic descriptions. There is only one value specified as the gene name (locus name) in the original dataset so this column does not need to be parsed further. The descriptions commonly use semi-colons to separate phrases. The next cell gets the distribution of the number of phrases in each description field for the dataset of text descriptions, as determined by a sentence parser. The majority of the descriptions are a single sentence or phrase, but some contain more."
   ]
  },
  {
   "cell_type": "code",
   "execution_count": null,
   "metadata": {},
   "outputs": [],
   "source": [
    "filename = \"../databases/tair/Locus_Germplasm_Phenotype_20190930.txt\"\n",
    "usecols = [\"LOCUS_NAME\", \"PHENOTYPE\"]\n",
    "usenames = [\"unique_gene_identifiers\", \"descriptions\"]\n",
    "renamed = {k:v for k,v in zip(usecols,usenames)}\n",
    "df = pd.read_table(filename, usecols=usecols)\n",
    "df.rename(columns=renamed, inplace=True)\n",
    "df.dropna(axis=\"rows\",inplace=True)\n",
    "df.sample(20)"
   ]
  },
  {
   "cell_type": "code",
   "execution_count": null,
   "metadata": {},
   "outputs": [],
   "source": [
    "df.shape"
   ]
  },
  {
   "cell_type": "markdown",
   "metadata": {},
   "source": [
    "Plotting distributions of number of phrases in each description."
   ]
  },
  {
   "cell_type": "code",
   "execution_count": null,
   "metadata": {},
   "outputs": [],
   "source": [
    "#Plotting distributions of number of phrases in each description.\n",
    "fig, (ax1, ax2) = plt.subplots(1, 2)\n",
    "ax1.set_title(\"Phenotype Descriptions\")\n",
    "ax2.set_title(\"Phenotype Descriptions\")\n",
    "ax1.set_xlabel(\"Number of phrases\")\n",
    "ax2.set_xlabel(\"Number of words\")\n",
    "x1 = [len(sent_tokenize(x)) for x in df[\"descriptions\"].values]\n",
    "x2 = [len(word_tokenize(x)) for x in df[\"descriptions\"].values]\n",
    "ax1.hist(x1, bins=15, range=(0,15), density=False, alpha=0.8, histtype='stepfilled', color=\"black\", edgecolor='none')\n",
    "ax2.hist(x2, bins=30, range=(0,200), density=False, alpha=0.8, histtype='stepfilled', color=\"black\", edgecolor='none')\n",
    "fig.set_size_inches(15,4)\n",
    "fig.tight_layout()\n",
    "fig.show()\n",
    "plt.close()"
   ]
  },
  {
   "cell_type": "code",
   "execution_count": null,
   "metadata": {},
   "outputs": [],
   "source": [
    "#Restructuring the dataset to include all expected column names.\n",
    "df[\"species\"] = \"ath\"\n",
    "df[\"other_gene_identifiers\"] = \"\"\n",
    "df[\"gene_models\"] = df[\"unique_gene_identifiers\"].map(lambda x: \"|\".join([s for s in x.split(\"|\") if is_gene_model(s)]))\n",
    "df[\"annotations\"] = \"\"\n",
    "df[\"sources\"] = \"TAIR\"\n",
    "df = df[reshaped_columns]"
   ]
  },
  {
   "cell_type": "code",
   "execution_count": null,
   "metadata": {},
   "outputs": [],
   "source": [
    "#Outputting the dataset of phenotype descriptions to csv file.\n",
    "path = os.path.join(OUTPUT_DIR,\"tair_phenotype_descriptions.csv\")\n",
    "df.to_csv(path, index=False)\n",
    "df.head(20)"
   ]
  },
  {
   "cell_type": "markdown",
   "metadata": {},
   "source": [
    "### File with curator summaries (Araport11_functional_descriptions_20190930.txt)"
   ]
  },
  {
   "cell_type": "code",
   "execution_count": null,
   "metadata": {},
   "outputs": [],
   "source": [
    "filename = \"../databases/tair/Araport11_functional_descriptions_20190930.txt\"\n",
    "usecols = [\"name\", \"Curator_summary\"]\n",
    "usenames = [\"unique_gene_identifiers\", \"descriptions\"]\n",
    "renamed = {k:v for k,v in zip(usecols,usenames)}\n",
    "df = pd.read_table(filename, usecols=usecols)\n",
    "df.rename(columns=renamed, inplace=True)\n",
    "df.dropna(axis=\"rows\",inplace=True)\n",
    "df.sample(20)"
   ]
  },
  {
   "cell_type": "code",
   "execution_count": null,
   "metadata": {},
   "outputs": [],
   "source": [
    "df.shape"
   ]
  },
  {
   "cell_type": "markdown",
   "metadata": {},
   "source": [
    "In[9]:"
   ]
  },
  {
   "cell_type": "markdown",
   "metadata": {},
   "source": [
    "Restructuring the dataset to include all expected column names."
   ]
  },
  {
   "cell_type": "code",
   "execution_count": null,
   "metadata": {},
   "outputs": [],
   "source": [
    "#\n",
    "df[\"species\"] = \"ath\"\n",
    "df[\"other_gene_identifiers\"] = \"\"\n",
    "df[\"gene_models\"] = df[\"unique_gene_identifiers\"].map(lambda x: \"|\".join([s for s in x.split(\"|\") if is_gene_model(s)]))\n",
    "df[\"annotations\"] = \"\"\n",
    "df[\"sources\"] = \"TAIR\"\n",
    "df = df[reshaped_columns]"
   ]
  },
  {
   "cell_type": "markdown",
   "metadata": {},
   "source": [
    "Outputting the dataset of phenotype descriptions to csv file."
   ]
  },
  {
   "cell_type": "code",
   "execution_count": null,
   "metadata": {},
   "outputs": [],
   "source": [
    "path = os.path.join(OUTPUT_DIR,\"tair_general_descriptions.csv\")\n",
    "df.to_csv(path, index=False)\n",
    "df.sample(20)"
   ]
  },
  {
   "cell_type": "markdown",
   "metadata": {},
   "source": [
    "### File with gene ontology annotations (ATH_GO_GOSLIM.txt)<br>\n",
    "Read in the file containing names of loci and corresponding information relating to gene ontology term annotation. Not all of the columns are used here, only a subset of them are read in. The relationship column refers to the relationships between the gene for that loci and the term mentioned on that given line. Evidence refer to the method of acquiring and the confidence in the annotation itself. This is retained so that we can subset that dataset based on whether the annotations are experimentally confirmed or simply predicted annotations. This section also looks at how many unique values are present for each field.<br>\n",
    "<br>\n",
    "Each term annotation in this dataset is also associated with an evidence code specifying the method by which this annotation was made, which is related to the confidence that we can have in this annotation, and the tasks that the annotation should be used for. About half of the term annotations were made computationally, but there are also a high number of annotations available from high confidence annotations such as experimentally validated, curator statements, and author statements."
   ]
  },
  {
   "cell_type": "markdown",
   "metadata": {},
   "source": [
    "In[10]:"
   ]
  },
  {
   "cell_type": "code",
   "execution_count": null,
   "metadata": {},
   "outputs": [],
   "source": [
    "filename = \"../databases/tair/ATH_GO_GOSLIM.txt\"\n",
    "df_go = pd.read_table(filename, header=None, usecols=[0,2,3,4,5,9,12])\n",
    "df_go.columns = [\"locus\",\"object\",\"relationship\",\"term_label\",\"term_id\",\"evidence_code\",\"reference\"]\n",
    "unique_values = {col:len(pd.unique(df_go[col].values)) for col in df_go.columns}\n",
    "print(df_go[[\"locus\",\"object\",\"term_id\",\"evidence_code\",\"reference\"]].head(10))\n",
    "print(df_go.shape)\n",
    "for k,v in unique_values.items():\n",
    "    print(\"{:18}{:8}\".format(k,v))"
   ]
  },
  {
   "cell_type": "markdown",
   "metadata": {},
   "source": [
    "In[11]:"
   ]
  },
  {
   "cell_type": "code",
   "execution_count": null,
   "metadata": {},
   "outputs": [],
   "source": [
    "code_quantities = {c:len([x for x in df_go[\"evidence_code\"] if EVIDENCE_CODES[x] in c]) \n",
    "             for c in list(set(EVIDENCE_CODES.values()))}\n",
    "for k,v in code_quantities.items():\n",
    "    print(\"{:25}{:8}\".format(k,v))"
   ]
  },
  {
   "cell_type": "markdown",
   "metadata": {},
   "source": [
    "In[12]:"
   ]
  },
  {
   "cell_type": "markdown",
   "metadata": {},
   "source": [
    "Restructuring the dataset to include all the expected column names."
   ]
  },
  {
   "cell_type": "code",
   "execution_count": null,
   "metadata": {},
   "outputs": [],
   "source": [
    "df_go[\"species\"] = \"ath\"\n",
    "df_go[\"unique_gene_identifiers\"] = df_go[\"locus\"]\n",
    "df_go[\"other_gene_identifiers\"] = \"\"\n",
    "df_go[\"gene_models\"] = df_go[\"unique_gene_identifiers\"].map(lambda x: \"\".join([s for s in x.split(\"|\") if is_gene_model(s)]))\n",
    "df_go[\"descriptions\"] = \"\"\n",
    "df_go[\"annotations\"] = df_go[\"term_id\"]\n",
    "df_go[\"sources\"] = \"TAIR\"\n",
    "high_confidence_categories = [\"experimental\",\"author_statement\",\"curator_statement\"]\n",
    "df_go[\"high_confidence\"] = df_go[\"evidence_code\"].apply(lambda x: EVIDENCE_CODES[x] in high_confidence_categories)"
   ]
  },
  {
   "cell_type": "markdown",
   "metadata": {},
   "source": [
    "Subset to only include the high-quality GO annotations and ouptut the dataset to a csv file."
   ]
  },
  {
   "cell_type": "code",
   "execution_count": null,
   "metadata": {},
   "outputs": [],
   "source": [
    "df_go_high_confidence = df_go[df_go[\"high_confidence\"]==True]\n",
    "path = os.path.join(OUTPUT_DIR,\"tair_curated_go_annotations.csv\")\n",
    "df_go_high_confidence = df_go_high_confidence[reshaped_columns]\n",
    "df_go_high_confidence.to_csv(path, index=False)"
   ]
  },
  {
   "cell_type": "markdown",
   "metadata": {},
   "source": [
    "Outputting the dataset of annotations to a csv file."
   ]
  },
  {
   "cell_type": "code",
   "execution_count": null,
   "metadata": {},
   "outputs": [],
   "source": [
    "df_go = df_go[reshaped_columns]\n",
    "path = os.path.join(OUTPUT_DIR,\"tair_all_go_annotations.csv\")\n",
    "df_go.to_csv(path, index=False)\n",
    "df_go.head(20)"
   ]
  },
  {
   "cell_type": "markdown",
   "metadata": {},
   "source": [
    "### File with plant ontology term annotations (po_[termporal/anatomy]_gene_arabidopsis_tair.assoc)<br>\n",
    "There are two separate files available that include annotations of PO terms. The files do not have headers so column names are added based on how the columns are described in the accompanying available readme files. One of the files contains annotations for PO terms that are spatial, or describe a specific part of plant anatomy or plant molecular structures. The other file contains annotations for PO terms that are temporal, or refer to a specific process or stage of development. These files are each read in separately, and the next cells look at the quantity of unique values in the columns of each dataset. There are more spatial annotations than temporal annotations, and a greater number of terms used to describe the spatial annotations.<br>\n",
    "<br>\n",
    "The next field combines the two datasets of PO annotations and looks at the number of unique values for each column in the resulting dataset. Because there is no overlap in the terms between the two, the datasets are simply appended to one another and the total unique terms are a sum of the individual datasets.<br>\n",
    "<br>\n",
    "Each term annotation in this dataset is also associated with an evidence code specifying the method by which this annotation was made, which is related to the confidence that we can have in this annotation, and the tasks that the annotation should be used for. Almost all of the PO term annotations are high confidence, they are experimentally validated, and only a few of them are derived from author statements.<br>\n",
    "<br>\n",
    "The strings which are described in the synonyms column are included as references to each gene, and are combined with the gene name mentioned in the symbol column into a single bar delimited list."
   ]
  },
  {
   "cell_type": "markdown",
   "metadata": {},
   "source": [
    "In[13]:"
   ]
  },
  {
   "cell_type": "markdown",
   "metadata": {},
   "source": [
    "Reading in the dataset of spatial PO term annotations."
   ]
  },
  {
   "cell_type": "code",
   "execution_count": null,
   "metadata": {},
   "outputs": [],
   "source": [
    "filename = \"../databases/tair/po_anatomy_gene_arabidopsis_tair.assoc\"\n",
    "df_po_spatial = pd.read_table(filename, header=None, skiprows=0, usecols=[2,4,5,6,9,10,11])\n",
    "df_po_spatial.columns = [\"symbol\",\"term_id\",\"references\",\"evidence_code\",\"name\",\"synonyms\",\"type\"]\n",
    "unique_values = {col:len(pd.unique(df_po_spatial[col].values)) for col in df_po_spatial.columns}\n",
    "print(df_po_spatial.shape)\n",
    "for k,v in unique_values.items():\n",
    "    print(\"{:18}{:8}\".format(k,v))"
   ]
  },
  {
   "cell_type": "markdown",
   "metadata": {},
   "source": [
    "In[14]:"
   ]
  },
  {
   "cell_type": "markdown",
   "metadata": {},
   "source": [
    "Reading in the dataset of temporal PO term annotations."
   ]
  },
  {
   "cell_type": "code",
   "execution_count": null,
   "metadata": {},
   "outputs": [],
   "source": [
    "filename = \"../databases/tair/po_temporal_gene_arabidopsis_tair.assoc\"\n",
    "df_po_temporal = pd.read_table(filename, header=None, skiprows=0, usecols=[2,4,5,6,9,10,11])\n",
    "df_po_temporal.columns = [\"symbol\",\"term_id\",\"references\",\"evidence_code\",\"name\",\"synonyms\",\"type\"]\n",
    "unique_values = {col:len(pd.unique(df_po_temporal[col].values)) for col in df_po_temporal.columns}\n",
    "print(df_po_temporal.shape)\n",
    "for k,v in unique_values.items():\n",
    "    print(\"{:18}{:8}\".format(k,v))"
   ]
  },
  {
   "cell_type": "markdown",
   "metadata": {},
   "source": [
    "In[15]:"
   ]
  },
  {
   "cell_type": "markdown",
   "metadata": {},
   "source": [
    "Looking at how many unique values each column has."
   ]
  },
  {
   "cell_type": "code",
   "execution_count": null,
   "metadata": {},
   "outputs": [],
   "source": [
    "df_po = df_po_spatial.append(df_po_temporal, ignore_index=True)\n",
    "unique_values = {col:len(pd.unique(df_po[col].values)) for col in df_po.columns}\n",
    "print(df_po[[\"symbol\",\"synonyms\",\"evidence_code\"]].head(10))\n",
    "print(df_po.shape)\n",
    "for k,v in unique_values.items():\n",
    "    print(\"{:18}{:8}\".format(k,v))"
   ]
  },
  {
   "cell_type": "markdown",
   "metadata": {},
   "source": [
    "In[16]:"
   ]
  },
  {
   "cell_type": "markdown",
   "metadata": {},
   "source": [
    "Quantifying the number of annotations of each type."
   ]
  },
  {
   "cell_type": "code",
   "execution_count": null,
   "metadata": {},
   "outputs": [],
   "source": [
    "code_quantities = {c:len([x for x in df_po[\"evidence_code\"] if EVIDENCE_CODES[x] in c]) \n",
    "             for c in list(set(EVIDENCE_CODES.values()))}\n",
    "for k,v in code_quantities.items():\n",
    "    print(\"{:25}{:8}\".format(k,v))"
   ]
  },
  {
   "cell_type": "markdown",
   "metadata": {},
   "source": [
    "In[17]:"
   ]
  },
  {
   "cell_type": "code",
   "execution_count": null,
   "metadata": {},
   "outputs": [],
   "source": [
    "df_po['name'] = df_po['name'].astype(str)\n",
    "df_po.dtypes"
   ]
  },
  {
   "cell_type": "markdown",
   "metadata": {},
   "source": [
    "In[18]:"
   ]
  },
  {
   "cell_type": "markdown",
   "metadata": {},
   "source": [
    "Restructuring the dataset to include all the expected column names."
   ]
  },
  {
   "cell_type": "code",
   "execution_count": null,
   "metadata": {},
   "outputs": [],
   "source": [
    "combine_columns = lambda row, columns: concatenate_with_delim(\"|\", [row[column] for column in columns])\n",
    "df_po[\"species\"] = \"ath\"\n",
    "df_po[\"unique_gene_identifiers\"] = df_po.apply(lambda x: combine_columns(x, [\"symbol\", \"name\"]), axis=1)\n",
    "df_po[\"other_gene_identifiers\"] = df_po[\"synonyms\"]\n",
    "df_po[\"gene_model_strings_1\"] =  df_po[\"unique_gene_identifiers\"].map(lambda x: \"|\".join([s for s in x.split(\"|\") if is_gene_model(s)]))\n",
    "df_po[\"gene_model_strings_2\"] =  df_po[\"unique_gene_identifiers\"].map(lambda x: \"|\".join([s for s in x.split(\"|\") if is_gene_model(s)]))\n",
    "df_po[\"gene_models\"] = df_po.apply(lambda x: combine_columns(x, [\"gene_model_strings_1\", \"gene_model_strings_2\"]), axis=1)\n",
    "df_po[\"descriptions\"] = \"\"\n",
    "df_po[\"annotations\"] = df_po[\"term_id\"]\n",
    "df_po[\"sources\"] = \"TAIR\"\n",
    "df_po[\"other_gene_identifiers\"] = df_po.apply(lambda row: subtract_string_lists(\"|\", row[\"other_gene_identifiers\"],row[\"unique_gene_identifiers\"]), axis=1)\n",
    "df_po = df_po[reshaped_columns]"
   ]
  },
  {
   "cell_type": "markdown",
   "metadata": {},
   "source": [
    "Outputting the dataset of annotations to a csv file."
   ]
  },
  {
   "cell_type": "code",
   "execution_count": null,
   "metadata": {},
   "outputs": [],
   "source": [
    "path = os.path.join(OUTPUT_DIR,\"tair_curated_po_annotations.csv\")\n",
    "df_po.to_csv(path, index=False)\n",
    "df_po.head(30)"
   ]
  },
  {
   "cell_type": "markdown",
   "metadata": {},
   "source": [
    "In[ ]:"
   ]
  },
  {
   "cell_type": "markdown",
   "metadata": {},
   "source": [
    "In[ ]:"
   ]
  }
 ],
 "metadata": {
  "kernelspec": {
   "display_name": "Python 3",
   "language": "python",
   "name": "python3"
  },
  "language_info": {
   "codemirror_mode": {
    "name": "ipython",
    "version": 3
   },
   "file_extension": ".py",
   "mimetype": "text/x-python",
   "name": "python",
   "nbconvert_exporter": "python",
   "pygments_lexer": "ipython3",
   "version": "3.6.13"
  }
 },
 "nbformat": 4,
 "nbformat_minor": 2
}
