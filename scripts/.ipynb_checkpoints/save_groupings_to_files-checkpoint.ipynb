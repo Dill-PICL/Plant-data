{
 "cells": [
  {
   "cell_type": "code",
   "execution_count": 1,
   "metadata": {},
   "outputs": [],
   "source": [
    "import sys\n",
    "import pandas as pd\n",
    "import numpy as np\n",
    "import warnings\n",
    "warnings.simplefilter('ignore')"
   ]
  },
  {
   "cell_type": "code",
   "execution_count": 2,
   "metadata": {},
   "outputs": [],
   "source": [
    "sys.path.append(\"../../oats\")\n",
    "from oats.biology.groupings import Groupings\n",
    "from oats.utils.utils import save_to_pickle\n",
    "from oats.nlp.preprocess import replace_delimiter, concatenate_with_delim"
   ]
  },
  {
   "cell_type": "markdown",
   "metadata": {},
   "source": [
    "Paths to input files from databases or papers. Some others are specified below in the dictionaries as well."
   ]
  },
  {
   "cell_type": "code",
   "execution_count": 3,
   "metadata": {},
   "outputs": [],
   "source": [
    "lloyd_meinke_cleaned_supplemental_table_path_hierarchy = \"../papers/lloyd_meinke_2012/versions_cleaned_by_me/192393Table_S1_Final.csv\"\n",
    "lloyd_meinke_cleaned_supplemental_table_path_mappings = \"../papers/lloyd_meinke_2012/versions_cleaned_by_me/192393Table_S2_Final_Revised.csv\""
   ]
  },
  {
   "cell_type": "markdown",
   "metadata": {},
   "source": [
    "Paths to the csv files that are created for each type of data for grouping genes."
   ]
  },
  {
   "cell_type": "code",
   "execution_count": 4,
   "metadata": {},
   "outputs": [],
   "source": [
    "lloyd_meinke_subsets_output_path = \"../reshaped_data/lloyd_meinke_subsets.csv\"\n",
    "lloyd_meinke_classes_output_path = \"../reshaped_data/lloyd_meinke_classes.csv\"\n",
    "kegg_pathways_output_path = \"../reshaped_data/kegg_pathways.csv\"\n",
    "plantcyc_pathways_output_path = \"../reshaped_data/plantcyc_pathways.csv\""
   ]
  },
  {
   "cell_type": "markdown",
   "metadata": {},
   "source": [
    "Paths to the csv files that are created to specify the mappings between IDs and names for each group."
   ]
  },
  {
   "cell_type": "code",
   "execution_count": 5,
   "metadata": {},
   "outputs": [],
   "source": [
    "lloyd_meinke_subsets_name_mapping_path = \"../reshaped_data/lloyd_meinke_subsets_name_map.csv\"\n",
    "lloyd_meinke_classes_name_mapping_path = \"../reshaped_data/lloyd_meinke_classes_name_map.csv\"\n",
    "kegg_pathways_name_mapping_path = \"../reshaped_data/kegg_pathways_name_map.csv\"\n",
    "plantcyc_pathways_name_mapping_path = \"../reshaped_data/plantcyc_pathways_name_map.csv\""
   ]
  },
  {
   "cell_type": "markdown",
   "metadata": {},
   "source": [
    "PlantCyc"
   ]
  },
  {
   "cell_type": "markdown",
   "metadata": {},
   "source": [
    "Mapping between species codes and files downloaded from PlantCyc."
   ]
  },
  {
   "cell_type": "code",
   "execution_count": 6,
   "metadata": {},
   "outputs": [],
   "source": [
    "plantcyc_paths_dictionary = {\n",
    "    \"ath\":\"../databases/plantcyc/aracyc_pathways.20180702\", \n",
    "    \"zma\":\"../databases/plantcyc/corncyc_pathways.20180702\", \n",
    "    \"mtr\":\"../databases/plantcyc/mtruncatulacyc_pathways.20180702\", \n",
    "    \"osa\":\"../databases/plantcyc/oryzacyc_pathways.20180702\", \n",
    "    \"gmx\":\"../databases/plantcyc/soycyc_pathways.20180702\",\n",
    "    \"sly\":\"../databases/plantcyc/tomatocyc_pathways.20180702\"}"
   ]
  },
  {
   "cell_type": "markdown",
   "metadata": {},
   "source": [
    "Create and save the pathways object using PlantCyc."
   ]
  },
  {
   "cell_type": "code",
   "execution_count": 7,
   "metadata": {},
   "outputs": [],
   "source": [
    "plantcyc_df = Groupings.get_dataframe_for_plantcyc(paths=plantcyc_paths_dictionary)\n",
    "plantcyc_df.to_csv(plantcyc_pathways_output_path, index=False)\n",
    "plantcyc_name_mapping = {row.pathway_id:row.pathway_name for row in plantcyc_df.itertuples()}\n",
    "pd.DataFrame(plantcyc_name_mapping.items(), columns=[\"group_id\",\"group_name\"]).to_csv(plantcyc_pathways_name_mapping_path, index=False)"
   ]
  },
  {
   "cell_type": "markdown",
   "metadata": {},
   "source": [
    "KEGG"
   ]
  },
  {
   "cell_type": "markdown",
   "metadata": {},
   "source": [
    "Mapping between species codes and files saved using another script that uses the KEGG REST API."
   ]
  },
  {
   "cell_type": "markdown",
   "metadata": {},
   "source": [
    "\n",
    "kegg_paths_dictionary = {<br>\n",
    "    \"ath\":\"/Users/irbraun/plant-data/databases/kegg/ath_pathway_files_from_api\",<br>\n",
    "    \"zma\":\"/Users/irbraun/plant-data/databases/kegg/zma_pathway_files_from_api\",<br>\n",
    "    \"osa\":\"/Users/irbraun/plant-data/databases/kegg/osa_pathway_files_from_api\",<br>\n",
    "    \"mtr\":\"/Users/irbraun/plant-data/databases/kegg/mtr_pathway_files_from_api\",<br>\n",
    "    \"gmx\":\"/Users/irbraun/plant-data/databases/kegg/gmx_pathway_files_from_api\",<br>\n",
    "    \"sly\":\"/Users/irbraun/plant-data/databases/kegg/sly_pathway_files_from_api\",<br>\n",
    "    \"hsa\":\"/Users/irbraun/plant-data/databases/kegg/hsa_pathway_files_from_api\",<br>\n"
   ]
  },
  {
   "cell_type": "code",
   "execution_count": 8,
   "metadata": {},
   "outputs": [],
   "source": [
    "path_to_kegg = \"../databases/kegg/\""
   ]
  },
  {
   "cell_type": "code",
   "execution_count": 9,
   "metadata": {},
   "outputs": [],
   "source": [
    "ath = str(path_to_kegg) + \"ath_pathway_files_from_api\"\n",
    "zma = str(path_to_kegg) + \"zma_pathway_files_from_api\"\n",
    "osa = str(path_to_kegg) + \"osa_pathway_files_from_api\"\n",
    "mtr = str(path_to_kegg) + \"mtr_pathway_files_from_api\"\n",
    "gmx = str(path_to_kegg) + \"gmx_pathway_files_from_api\"\n",
    "sly = str(path_to_kegg) + \"sly_pathway_files_from_api\"\n",
    "hsa = str(path_to_kegg) + \"hsa_pathway_files_from_api\""
   ]
  },
  {
   "cell_type": "code",
   "execution_count": 10,
   "metadata": {},
   "outputs": [],
   "source": [
    "kegg_paths_dictionary = {\n",
    "\t\"ath\":str(ath),\n",
    "\t\"zma\":str(zma),\n",
    "\t\"osa\":str(osa),\n",
    "\t\"mtr\":str(mtr),\n",
    "\t\"gmx\":str(gmx),\n",
    "\t\"sly\":str(sly),\n",
    "\t\"hsa\":str(hsa)\n",
    "}"
   ]
  },
  {
   "cell_type": "code",
   "execution_count": null,
   "metadata": {},
   "outputs": [
    {
     "name": "stdout",
     "output_type": "stream",
     "text": [
      "../databases/kegg/ath_pathway_files_from_api/path_ath00901.txt\n",
      "../databases/kegg/ath_pathway_files_from_api/path_ath00740.txt\n",
      "../databases/kegg/ath_pathway_files_from_api/path_ath01100.txt\n",
      "../databases/kegg/ath_pathway_files_from_api/path_ath04070.txt\n",
      "../databases/kegg/ath_pathway_files_from_api/path_ath01210.txt\n",
      "../databases/kegg/ath_pathway_files_from_api/path_ath00450.txt\n",
      "../databases/kegg/ath_pathway_files_from_api/path_ath00906.txt\n",
      "../databases/kegg/ath_pathway_files_from_api/path_ath00270.txt\n",
      "../databases/kegg/ath_pathway_files_from_api/path_ath00908.txt\n",
      "../databases/kegg/ath_pathway_files_from_api/path_ath01250.txt\n",
      "../databases/kegg/ath_pathway_files_from_api/path_ath00410.txt\n",
      "../databases/kegg/ath_pathway_files_from_api/path_ath00071.txt\n",
      "../databases/kegg/ath_pathway_files_from_api/path_ath03040.txt\n",
      "../databases/kegg/ath_pathway_files_from_api/path_ath00941.txt\n",
      "../databases/kegg/ath_pathway_files_from_api/path_ath00590.txt\n",
      "../databases/kegg/ath_pathway_files_from_api/path_ath00230.txt\n",
      "../databases/kegg/ath_pathway_files_from_api/path_ath00999.txt\n",
      "../databases/kegg/ath_pathway_files_from_api/path_ath00640.txt\n",
      "../databases/kegg/ath_pathway_files_from_api/path_ath00950.txt\n",
      "../databases/kegg/ath_pathway_files_from_api/path_ath00195.txt\n",
      "../databases/kegg/ath_pathway_files_from_api/path_ath03430.txt\n",
      "../databases/kegg/ath_pathway_files_from_api/path_ath03018.txt\n",
      "../databases/kegg/ath_pathway_files_from_api/path_ath00510.txt\n",
      "../databases/kegg/ath_pathway_files_from_api/path_ath00965.txt\n",
      "../databases/kegg/ath_pathway_files_from_api/path_ath00261.txt\n",
      "../databases/kegg/ath_pathway_files_from_api/path_ath00600.txt\n",
      "../databases/kegg/ath_pathway_files_from_api/path_ath01040.txt\n",
      "../databases/kegg/ath_pathway_files_from_api/path_ath04130.txt\n",
      "../databases/kegg/ath_pathway_files_from_api/path_ath03250.txt\n",
      "../databases/kegg/ath_pathway_files_from_api/path_ath00052.txt\n",
      "../databases/kegg/ath_pathway_files_from_api/path_ath00020.txt\n",
      "../databases/kegg/ath_pathway_files_from_api/path_ath00565.txt\n",
      "../databases/kegg/ath_pathway_files_from_api/path_ath00562.txt\n",
      "../databases/kegg/ath_pathway_files_from_api/path_ath00910.txt\n",
      "../databases/kegg/ath_pathway_files_from_api/path_ath04145.txt\n",
      "../databases/kegg/ath_pathway_files_from_api/path_ath00330.txt\n",
      "../databases/kegg/ath_pathway_files_from_api/path_ath00780.txt\n",
      "../databases/kegg/ath_pathway_files_from_api/path_ath00650.txt\n",
      "../databases/kegg/ath_pathway_files_from_api/path_ath00998.txt\n",
      "../databases/kegg/ath_pathway_files_from_api/path_ath00591.txt\n",
      "../databases/kegg/ath_pathway_files_from_api/path_ath00940.txt\n",
      "../databases/kegg/ath_pathway_files_from_api/path_ath00360.txt\n",
      "../databases/kegg/ath_pathway_files_from_api/path_ath03420.txt\n",
      "../databases/kegg/ath_pathway_files_from_api/path_ath03008.txt\n",
      "../databases/kegg/ath_pathway_files_from_api/path_ath00500.txt\n",
      "../databases/kegg/ath_pathway_files_from_api/path_ath04120.txt\n",
      "../databases/kegg/ath_pathway_files_from_api/path_ath00909.txt\n",
      "../databases/kegg/ath_pathway_files_from_api/path_ath00030.txt\n",
      "../databases/kegg/ath_pathway_files_from_api/path_ath00480.txt\n",
      "../databases/kegg/ath_pathway_files_from_api/path_ath00900.txt\n",
      "../databases/kegg/ath_pathway_files_from_api/path_ath00790.txt\n",
      "../databases/kegg/ath_pathway_files_from_api/path_ath00563.txt\n",
      "../databases/kegg/ath_pathway_files_from_api/path_ath04144.txt\n",
      "../databases/kegg/ath_pathway_files_from_api/path_ath00750.txt\n",
      "../databases/kegg/ath_pathway_files_from_api/path_ath01110.txt\n",
      "../databases/kegg/ath_pathway_files_from_api/path_ath01200.txt\n",
      "../databases/kegg/ath_pathway_files_from_api/path_ath00440.txt\n",
      "../databases/kegg/ath_pathway_files_from_api/path_ath03010.txt\n",
      "../databases/kegg/ath_pathway_files_from_api/path_ath00564.txt\n",
      "../databases/kegg/ath_pathway_files_from_api/path_ath00260.txt\n",
      "../databases/kegg/ath_pathway_files_from_api/path_ath00601.txt\n",
      "../databases/kegg/ath_pathway_files_from_api/path_ath00053.txt\n",
      "../databases/kegg/ath_pathway_files_from_api/path_ath00511.txt\n",
      "../databases/kegg/ath_pathway_files_from_api/path_ath04136.txt\n",
      "../databases/kegg/ath_pathway_files_from_api/path_ath01240.txt\n",
      "../databases/kegg/ath_pathway_files_from_api/path_ath00400.txt\n",
      "../databases/kegg/ath_pathway_files_from_api/path_ath00061.txt\n",
      "../databases/kegg/ath_pathway_files_from_api/path_ath03050.txt\n",
      "../databases/kegg/ath_pathway_files_from_api/path_ath00710.txt\n",
      "../databases/kegg/ath_pathway_files_from_api/path_ath00130.txt\n",
      "../databases/kegg/ath_pathway_files_from_api/path_ath00220.txt\n",
      "../databases/kegg/ath_pathway_files_from_api/path_ath03022.txt\n",
      "../databases/kegg/ath_pathway_files_from_api/path_ath01232.txt\n",
      "../databases/kegg/ath_pathway_files_from_api/path_ath04712.txt\n",
      "../databases/kegg/ath_pathway_files_from_api/path_ath00785.txt\n",
      "../databases/kegg/ath_pathway_files_from_api/path_ath03013.txt\n",
      "../databases/kegg/ath_pathway_files_from_api/path_ath00670.txt\n",
      "../databases/kegg/ath_pathway_files_from_api/path_ath00340.txt\n",
      "../databases/kegg/ath_pathway_files_from_api/path_ath00960.txt\n",
      "../databases/kegg/ath_pathway_files_from_api/path_ath04016.txt\n",
      "../databases/kegg/ath_pathway_files_from_api/path_ath00190.txt\n",
      "../databases/kegg/ath_pathway_files_from_api/path_ath00520.txt\n",
      "../databases/kegg/ath_pathway_files_from_api/path_ath00062.txt\n",
      "../databases/kegg/ath_pathway_files_from_api/path_ath00630.txt\n",
      "../databases/kegg/ath_pathway_files_from_api/path_ath00280.txt\n",
      "../databases/kegg/ath_pathway_files_from_api/path_ath03440.txt\n",
      "../databases/kegg/ath_pathway_files_from_api/path_ath00010.txt\n",
      "../databases/kegg/ath_pathway_files_from_api/path_ath00300.txt\n",
      "../databases/kegg/ath_pathway_files_from_api/path_ath00920.txt\n",
      "../databases/kegg/ath_pathway_files_from_api/path_ath00770.txt\n",
      "../databases/kegg/ath_pathway_files_from_api/path_ath00543.txt\n",
      "../databases/kegg/ath_pathway_files_from_api/path_ath00592.txt\n",
      "../databases/kegg/ath_pathway_files_from_api/path_ath03030.txt\n",
      "../databases/kegg/ath_pathway_files_from_api/path_ath00232.txt\n",
      "../databases/kegg/ath_pathway_files_from_api/path_ath00460.txt\n",
      "../databases/kegg/ath_pathway_files_from_api/path_ath00073.txt\n",
      "../databases/kegg/ath_pathway_files_from_api/path_ath00860.txt\n",
      "../databases/kegg/ath_pathway_files_from_api/path_ath00944.txt\n",
      "../databases/kegg/ath_pathway_files_from_api/path_ath00240.txt\n",
      "../databases/kegg/ath_pathway_files_from_api/path_ath00531.txt\n",
      "../databases/kegg/ath_pathway_files_from_api/path_ath00380.txt\n",
      "../databases/kegg/ath_pathway_files_from_api/path_ath00730.txt\n",
      "../databases/kegg/ath_pathway_files_from_api/path_ath00903.txt\n",
      "../databases/kegg/ath_pathway_files_from_api/path_ath01212.txt\n",
      "../databases/kegg/ath_pathway_files_from_api/path_ath02010.txt\n",
      "../databases/kegg/ath_pathway_files_from_api/path_ath04075.txt\n",
      "../databases/kegg/ath_pathway_files_from_api/path_ath00904.txt\n",
      "../databases/kegg/ath_pathway_files_from_api/path_ath00760.txt\n",
      "../databases/kegg/ath_pathway_files_from_api/path_ath03020.txt\n",
      "../databases/kegg/ath_pathway_files_from_api/path_ath01230.txt\n",
      "../databases/kegg/ath_pathway_files_from_api/path_ath00470.txt\n",
      "../databases/kegg/ath_pathway_files_from_api/path_ath00250.txt\n",
      "../databases/kegg/ath_pathway_files_from_api/path_ath00196.txt\n",
      "../databases/kegg/ath_pathway_files_from_api/path_ath00514.txt\n",
      "../databases/kegg/ath_pathway_files_from_api/path_ath00966.txt\n",
      "../databases/kegg/ath_pathway_files_from_api/path_ath03060.txt\n",
      "../databases/kegg/ath_pathway_files_from_api/path_ath00603.txt\n",
      "../databases/kegg/ath_pathway_files_from_api/path_ath00430.txt\n",
      "../databases/kegg/ath_pathway_files_from_api/path_ath00051.txt\n",
      "../databases/kegg/ath_pathway_files_from_api/path_ath00513.txt\n",
      "../databases/kegg/ath_pathway_files_from_api/path_ath00604.txt\n",
      "../databases/kegg/ath_pathway_files_from_api/path_ath00561.txt\n",
      "../databases/kegg/ath_pathway_files_from_api/path_ath03015.txt\n",
      "../databases/kegg/ath_pathway_files_from_api/path_ath00100.txt\n",
      "../databases/kegg/ath_pathway_files_from_api/path_ath04146.txt\n",
      "../databases/kegg/ath_pathway_files_from_api/path_ath04141.txt\n",
      "../databases/kegg/ath_pathway_files_from_api/path_ath04626.txt\n",
      "../databases/kegg/ath_pathway_files_from_api/path_ath00660.txt\n",
      "../databases/kegg/ath_pathway_files_from_api/path_ath00905.txt\n",
      "../databases/kegg/ath_pathway_files_from_api/path_ath00902.txt\n",
      "../databases/kegg/ath_pathway_files_from_api/path_ath00350.txt\n"
     ]
    },
    {
     "name": "stdout",
     "output_type": "stream",
     "text": [
      "../databases/kegg/ath_pathway_files_from_api/path_ath00970.txt\n",
      "../databases/kegg/ath_pathway_files_from_api/path_ath04122.txt\n",
      "../databases/kegg/ath_pathway_files_from_api/path_ath03410.txt\n",
      "../databases/kegg/ath_pathway_files_from_api/path_ath00040.txt\n",
      "../databases/kegg/ath_pathway_files_from_api/path_ath00942.txt\n",
      "../databases/kegg/ath_pathway_files_from_api/path_ath00072.txt\n",
      "../databases/kegg/ath_pathway_files_from_api/path_ath00945.txt\n",
      "../databases/kegg/ath_pathway_files_from_api/path_ath00290.txt\n",
      "../databases/kegg/ath_pathway_files_from_api/path_ath00620.txt\n",
      "../databases/kegg/ath_pathway_files_from_api/path_ath03450.txt\n",
      "../databases/kegg/ath_pathway_files_from_api/path_ath00310.txt\n",
      "../databases/kegg/zma_pathway_files_from_api/path_zma00730.txt\n",
      "../databases/kegg/zma_pathway_files_from_api/path_zma00380.txt\n",
      "../databases/kegg/zma_pathway_files_from_api/path_zma04075.txt\n",
      "../databases/kegg/zma_pathway_files_from_api/path_zma02010.txt\n",
      "../databases/kegg/zma_pathway_files_from_api/path_zma01212.txt\n",
      "../databases/kegg/zma_pathway_files_from_api/path_zma00904.txt\n",
      "../databases/kegg/zma_pathway_files_from_api/path_zma00903.txt\n",
      "../databases/kegg/zma_pathway_files_from_api/path_zma00232.txt\n",
      "../databases/kegg/zma_pathway_files_from_api/path_zma03030.txt\n",
      "../databases/kegg/zma_pathway_files_from_api/path_zma00460.txt\n",
      "../databases/kegg/zma_pathway_files_from_api/path_zma00770.txt\n",
      "../databases/kegg/zma_pathway_files_from_api/path_zma00592.txt\n",
      "../databases/kegg/zma_pathway_files_from_api/path_zma00543.txt\n",
      "../databases/kegg/zma_pathway_files_from_api/path_zma00531.txt\n",
      "../databases/kegg/zma_pathway_files_from_api/path_zma00860.txt\n",
      "../databases/kegg/zma_pathway_files_from_api/path_zma00073.txt\n",
      "../databases/kegg/zma_pathway_files_from_api/path_zma00240.txt\n",
      "../databases/kegg/zma_pathway_files_from_api/path_zma00944.txt\n",
      "../databases/kegg/zma_pathway_files_from_api/path_zma00062.txt\n",
      "../databases/kegg/zma_pathway_files_from_api/path_zma00280.txt\n",
      "../databases/kegg/zma_pathway_files_from_api/path_zma00630.txt\n",
      "../databases/kegg/zma_pathway_files_from_api/path_zma00520.txt\n",
      "../databases/kegg/zma_pathway_files_from_api/path_zma00190.txt\n",
      "../databases/kegg/zma_pathway_files_from_api/path_zma00300.txt\n",
      "../databases/kegg/zma_pathway_files_from_api/path_zma00920.txt\n",
      "../databases/kegg/zma_pathway_files_from_api/path_zma03440.txt\n",
      "../databases/kegg/zma_pathway_files_from_api/path_zma00010.txt\n",
      "../databases/kegg/zma_pathway_files_from_api/path_zma00785.txt\n",
      "../databases/kegg/zma_pathway_files_from_api/path_zma04712.txt\n",
      "../databases/kegg/zma_pathway_files_from_api/path_zma00670.txt\n",
      "../databases/kegg/zma_pathway_files_from_api/path_zma03013.txt\n",
      "../databases/kegg/zma_pathway_files_from_api/path_zma04016.txt\n",
      "../databases/kegg/zma_pathway_files_from_api/path_zma00340.txt\n",
      "../databases/kegg/zma_pathway_files_from_api/path_zma00960.txt\n",
      "../databases/kegg/zma_pathway_files_from_api/path_zma00072.txt\n",
      "../databases/kegg/zma_pathway_files_from_api/path_zma00620.txt\n",
      "../databases/kegg/zma_pathway_files_from_api/path_zma00290.txt\n",
      "../databases/kegg/zma_pathway_files_from_api/path_zma00945.txt\n",
      "../databases/kegg/zma_pathway_files_from_api/path_zma00942.txt\n",
      "../databases/kegg/zma_pathway_files_from_api/path_zma00310.txt\n",
      "../databases/kegg/zma_pathway_files_from_api/path_zma03450.txt\n",
      "../databases/kegg/zma_pathway_files_from_api/path_zma00902.txt\n",
      "../databases/kegg/zma_pathway_files_from_api/path_zma00905.txt\n",
      "../databases/kegg/zma_pathway_files_from_api/path_zma00660.txt\n",
      "../databases/kegg/zma_pathway_files_from_api/path_zma04626.txt\n",
      "../databases/kegg/zma_pathway_files_from_api/path_zma03410.txt\n",
      "../databases/kegg/zma_pathway_files_from_api/path_zma04122.txt\n",
      "../databases/kegg/zma_pathway_files_from_api/path_zma00040.txt\n",
      "../databases/kegg/zma_pathway_files_from_api/path_zma00350.txt\n",
      "../databases/kegg/zma_pathway_files_from_api/path_zma00970.txt\n",
      "../databases/kegg/zma_pathway_files_from_api/path_zma00604.txt\n",
      "../databases/kegg/zma_pathway_files_from_api/path_zma00513.txt\n",
      "../databases/kegg/zma_pathway_files_from_api/path_zma00603.txt\n",
      "../databases/kegg/zma_pathway_files_from_api/path_zma03060.txt\n",
      "../databases/kegg/zma_pathway_files_from_api/path_zma00966.txt\n",
      "../databases/kegg/zma_pathway_files_from_api/path_zma00514.txt\n",
      "../databases/kegg/zma_pathway_files_from_api/path_zma00051.txt\n",
      "../databases/kegg/zma_pathway_files_from_api/path_zma00430.txt\n",
      "../databases/kegg/zma_pathway_files_from_api/path_zma04141.txt\n",
      "../databases/kegg/zma_pathway_files_from_api/path_zma04146.txt\n",
      "../databases/kegg/zma_pathway_files_from_api/path_zma00100.txt\n",
      "../databases/kegg/zma_pathway_files_from_api/path_zma03015.txt\n",
      "../databases/kegg/zma_pathway_files_from_api/path_zma00561.txt\n",
      "../databases/kegg/zma_pathway_files_from_api/path_zma03020.txt\n",
      "../databases/kegg/zma_pathway_files_from_api/path_zma01230.txt\n",
      "../databases/kegg/zma_pathway_files_from_api/path_zma00470.txt\n",
      "../databases/kegg/zma_pathway_files_from_api/path_zma00760.txt\n",
      "../databases/kegg/zma_pathway_files_from_api/path_zma00402.txt\n",
      "../databases/kegg/zma_pathway_files_from_api/path_zma00196.txt\n",
      "../databases/kegg/zma_pathway_files_from_api/path_zma00250.txt\n",
      "../databases/kegg/zma_pathway_files_from_api/path_zma04130.txt\n",
      "../databases/kegg/zma_pathway_files_from_api/path_zma00600.txt\n",
      "../databases/kegg/zma_pathway_files_from_api/path_zma01040.txt\n",
      "../databases/kegg/zma_pathway_files_from_api/path_zma00261.txt\n",
      "../databases/kegg/zma_pathway_files_from_api/path_zma00965.txt\n",
      "../databases/kegg/zma_pathway_files_from_api/path_zma00052.txt\n",
      "../databases/kegg/zma_pathway_files_from_api/path_zma03250.txt\n",
      "../databases/kegg/zma_pathway_files_from_api/path_zma03018.txt\n",
      "../databases/kegg/zma_pathway_files_from_api/path_zma00510.txt\n",
      "../databases/kegg/zma_pathway_files_from_api/path_zma04145.txt\n",
      "../databases/kegg/zma_pathway_files_from_api/path_zma00910.txt\n",
      "../databases/kegg/zma_pathway_files_from_api/path_zma00562.txt\n",
      "../databases/kegg/zma_pathway_files_from_api/path_zma00780.txt\n",
      "../databases/kegg/zma_pathway_files_from_api/path_zma00330.txt\n",
      "../databases/kegg/zma_pathway_files_from_api/path_zma00020.txt\n",
      "../databases/kegg/zma_pathway_files_from_api/path_zma00565.txt\n",
      "../databases/kegg/zma_pathway_files_from_api/path_zma00640.txt\n",
      "../databases/kegg/zma_pathway_files_from_api/path_zma03430.txt\n",
      "../databases/kegg/zma_pathway_files_from_api/path_zma00195.txt\n",
      "../databases/kegg/zma_pathway_files_from_api/path_zma00950.txt\n",
      "../databases/kegg/zma_pathway_files_from_api/path_zma00941.txt\n",
      "../databases/kegg/zma_pathway_files_from_api/path_zma00071.txt\n",
      "../databases/kegg/zma_pathway_files_from_api/path_zma01250.txt\n",
      "../databases/kegg/zma_pathway_files_from_api/path_zma00410.txt\n",
      "../databases/kegg/zma_pathway_files_from_api/path_zma03040.txt\n",
      "../databases/kegg/zma_pathway_files_from_api/path_zma00230.txt\n",
      "../databases/kegg/zma_pathway_files_from_api/path_zma00999.txt\n",
      "../databases/kegg/zma_pathway_files_from_api/path_zma00590.txt\n",
      "../databases/kegg/zma_pathway_files_from_api/path_zma01210.txt\n",
      "../databases/kegg/zma_pathway_files_from_api/path_zma00450.txt\n",
      "../databases/kegg/zma_pathway_files_from_api/path_zma00906.txt\n",
      "../databases/kegg/zma_pathway_files_from_api/path_zma04070.txt\n",
      "../databases/kegg/zma_pathway_files_from_api/path_zma00740.txt\n",
      "../databases/kegg/zma_pathway_files_from_api/path_zma01100.txt\n",
      "../databases/kegg/zma_pathway_files_from_api/path_zma00270.txt\n",
      "../databases/kegg/zma_pathway_files_from_api/path_zma00908.txt\n",
      "../databases/kegg/zma_pathway_files_from_api/path_zma00710.txt\n",
      "../databases/kegg/zma_pathway_files_from_api/path_zma00061.txt\n",
      "../databases/kegg/zma_pathway_files_from_api/path_zma01240.txt\n",
      "../databases/kegg/zma_pathway_files_from_api/path_zma00400.txt\n",
      "../databases/kegg/zma_pathway_files_from_api/path_zma03050.txt\n",
      "../databases/kegg/zma_pathway_files_from_api/path_zma03022.txt\n",
      "../databases/kegg/zma_pathway_files_from_api/path_zma00220.txt\n",
      "../databases/kegg/zma_pathway_files_from_api/path_zma01232.txt\n",
      "../databases/kegg/zma_pathway_files_from_api/path_zma00130.txt\n",
      "../databases/kegg/zma_pathway_files_from_api/path_zma01200.txt\n",
      "../databases/kegg/zma_pathway_files_from_api/path_zma00440.txt\n",
      "../databases/kegg/zma_pathway_files_from_api/path_zma00564.txt\n",
      "../databases/kegg/zma_pathway_files_from_api/path_zma03010.txt\n",
      "../databases/kegg/zma_pathway_files_from_api/path_zma04144.txt\n"
     ]
    },
    {
     "name": "stdout",
     "output_type": "stream",
     "text": [
      "../databases/kegg/zma_pathway_files_from_api/path_zma00563.txt\n",
      "../databases/kegg/zma_pathway_files_from_api/path_zma00750.txt\n",
      "../databases/kegg/zma_pathway_files_from_api/path_zma01110.txt\n",
      "../databases/kegg/zma_pathway_files_from_api/path_zma04136.txt\n",
      "../databases/kegg/zma_pathway_files_from_api/path_zma00511.txt\n",
      "../databases/kegg/zma_pathway_files_from_api/path_zma00601.txt\n",
      "../databases/kegg/zma_pathway_files_from_api/path_zma00260.txt\n",
      "../databases/kegg/zma_pathway_files_from_api/path_zma00053.txt\n",
      "../databases/kegg/zma_pathway_files_from_api/path_zma04120.txt\n",
      "../databases/kegg/zma_pathway_files_from_api/path_zma00909.txt\n",
      "../databases/kegg/zma_pathway_files_from_api/path_zma03008.txt\n",
      "../databases/kegg/zma_pathway_files_from_api/path_zma00500.txt\n",
      "../databases/kegg/zma_pathway_files_from_api/path_zma00900.txt\n",
      "../databases/kegg/zma_pathway_files_from_api/path_zma00790.txt\n",
      "../databases/kegg/zma_pathway_files_from_api/path_zma00480.txt\n",
      "../databases/kegg/zma_pathway_files_from_api/path_zma00030.txt\n",
      "../databases/kegg/zma_pathway_files_from_api/path_zma00591.txt\n",
      "../databases/kegg/zma_pathway_files_from_api/path_zma00650.txt\n",
      "../databases/kegg/zma_pathway_files_from_api/path_zma00998.txt\n",
      "../databases/kegg/zma_pathway_files_from_api/path_zma03420.txt\n",
      "../databases/kegg/zma_pathway_files_from_api/path_zma00940.txt\n",
      "../databases/kegg/zma_pathway_files_from_api/path_zma00360.txt\n",
      "../databases/kegg/osa_pathway_files_from_api/path_osa00531.txt\n",
      "../databases/kegg/osa_pathway_files_from_api/path_osa00073.txt\n",
      "../databases/kegg/osa_pathway_files_from_api/path_osa00860.txt\n",
      "../databases/kegg/osa_pathway_files_from_api/path_osa00944.txt\n",
      "../databases/kegg/osa_pathway_files_from_api/path_osa00240.txt\n",
      "../databases/kegg/osa_pathway_files_from_api/path_osa03030.txt\n",
      "../databases/kegg/osa_pathway_files_from_api/path_osa00232.txt\n",
      "../databases/kegg/osa_pathway_files_from_api/path_osa00460.txt\n",
      "../databases/kegg/osa_pathway_files_from_api/path_osa00770.txt\n",
      "../databases/kegg/osa_pathway_files_from_api/path_osa00543.txt\n",
      "../databases/kegg/osa_pathway_files_from_api/path_osa00592.txt\n",
      "../databases/kegg/osa_pathway_files_from_api/path_osa04075.txt\n",
      "../databases/kegg/osa_pathway_files_from_api/path_osa01212.txt\n",
      "../databases/kegg/osa_pathway_files_from_api/path_osa02010.txt\n",
      "../databases/kegg/osa_pathway_files_from_api/path_osa00904.txt\n",
      "../databases/kegg/osa_pathway_files_from_api/path_osa00903.txt\n",
      "../databases/kegg/osa_pathway_files_from_api/path_osa00380.txt\n",
      "../databases/kegg/osa_pathway_files_from_api/path_osa00730.txt\n",
      "../databases/kegg/osa_pathway_files_from_api/path_osa04016.txt\n",
      "../databases/kegg/osa_pathway_files_from_api/path_osa00340.txt\n",
      "../databases/kegg/osa_pathway_files_from_api/path_osa00960.txt\n",
      "../databases/kegg/osa_pathway_files_from_api/path_osa00785.txt\n",
      "../databases/kegg/osa_pathway_files_from_api/path_osa04712.txt\n",
      "../databases/kegg/osa_pathway_files_from_api/path_osa03013.txt\n",
      "../databases/kegg/osa_pathway_files_from_api/path_osa00670.txt\n",
      "../databases/kegg/osa_pathway_files_from_api/path_osa00300.txt\n",
      "../databases/kegg/osa_pathway_files_from_api/path_osa00920.txt\n",
      "../databases/kegg/osa_pathway_files_from_api/path_osa03440.txt\n",
      "../databases/kegg/osa_pathway_files_from_api/path_osa00010.txt\n",
      "../databases/kegg/osa_pathway_files_from_api/path_osa00062.txt\n",
      "../databases/kegg/osa_pathway_files_from_api/path_osa00630.txt\n",
      "../databases/kegg/osa_pathway_files_from_api/path_osa00280.txt\n",
      "../databases/kegg/osa_pathway_files_from_api/path_osa00190.txt\n",
      "../databases/kegg/osa_pathway_files_from_api/path_osa00520.txt\n",
      "../databases/kegg/osa_pathway_files_from_api/path_osa03410.txt\n",
      "../databases/kegg/osa_pathway_files_from_api/path_osa04122.txt\n",
      "../databases/kegg/osa_pathway_files_from_api/path_osa00040.txt\n",
      "../databases/kegg/osa_pathway_files_from_api/path_osa00350.txt\n",
      "../databases/kegg/osa_pathway_files_from_api/path_osa00970.txt\n",
      "../databases/kegg/osa_pathway_files_from_api/path_osa00902.txt\n",
      "../databases/kegg/osa_pathway_files_from_api/path_osa00660.txt\n",
      "../databases/kegg/osa_pathway_files_from_api/path_osa00905.txt\n",
      "../databases/kegg/osa_pathway_files_from_api/path_osa04626.txt\n",
      "../databases/kegg/osa_pathway_files_from_api/path_osa00310.txt\n",
      "../databases/kegg/osa_pathway_files_from_api/path_osa03450.txt\n",
      "../databases/kegg/osa_pathway_files_from_api/path_osa00072.txt\n",
      "../databases/kegg/osa_pathway_files_from_api/path_osa00290.txt\n",
      "../databases/kegg/osa_pathway_files_from_api/path_osa00945.txt\n",
      "../databases/kegg/osa_pathway_files_from_api/path_osa00620.txt\n",
      "../databases/kegg/osa_pathway_files_from_api/path_osa00942.txt\n",
      "../databases/kegg/osa_pathway_files_from_api/path_osa00402.txt\n",
      "../databases/kegg/osa_pathway_files_from_api/path_osa00250.txt\n",
      "../databases/kegg/osa_pathway_files_from_api/path_osa00196.txt\n",
      "../databases/kegg/osa_pathway_files_from_api/path_osa03020.txt\n",
      "../databases/kegg/osa_pathway_files_from_api/path_osa00470.txt\n",
      "../databases/kegg/osa_pathway_files_from_api/path_osa01230.txt\n",
      "../databases/kegg/osa_pathway_files_from_api/path_osa00760.txt\n",
      "../databases/kegg/osa_pathway_files_from_api/path_osa04141.txt\n",
      "../databases/kegg/osa_pathway_files_from_api/path_osa04146.txt\n",
      "../databases/kegg/osa_pathway_files_from_api/path_osa00561.txt\n",
      "../databases/kegg/osa_pathway_files_from_api/path_osa00100.txt\n",
      "../databases/kegg/osa_pathway_files_from_api/path_osa03015.txt\n",
      "../databases/kegg/osa_pathway_files_from_api/path_osa00513.txt\n",
      "../databases/kegg/osa_pathway_files_from_api/path_osa00604.txt\n",
      "../databases/kegg/osa_pathway_files_from_api/path_osa00514.txt\n",
      "../databases/kegg/osa_pathway_files_from_api/path_osa00966.txt\n",
      "../databases/kegg/osa_pathway_files_from_api/path_osa03060.txt\n",
      "../databases/kegg/osa_pathway_files_from_api/path_osa00603.txt\n",
      "../databases/kegg/osa_pathway_files_from_api/path_osa00430.txt\n",
      "../databases/kegg/osa_pathway_files_from_api/path_osa00051.txt\n",
      "../databases/kegg/osa_pathway_files_from_api/path_osa00195.txt\n",
      "../databases/kegg/osa_pathway_files_from_api/path_osa03430.txt\n",
      "../databases/kegg/osa_pathway_files_from_api/path_osa00950.txt\n",
      "../databases/kegg/osa_pathway_files_from_api/path_osa00640.txt\n",
      "../databases/kegg/osa_pathway_files_from_api/path_osa04145.txt\n",
      "../databases/kegg/osa_pathway_files_from_api/path_osa00562.txt\n",
      "../databases/kegg/osa_pathway_files_from_api/path_osa00910.txt\n",
      "../databases/kegg/osa_pathway_files_from_api/path_osa00330.txt\n",
      "../databases/kegg/osa_pathway_files_from_api/path_osa00780.txt\n",
      "../databases/kegg/osa_pathway_files_from_api/path_osa00020.txt\n",
      "../databases/kegg/osa_pathway_files_from_api/path_osa00565.txt\n",
      "../databases/kegg/osa_pathway_files_from_api/path_osa04130.txt\n",
      "../databases/kegg/osa_pathway_files_from_api/path_osa00965.txt\n",
      "../databases/kegg/osa_pathway_files_from_api/path_osa00261.txt\n",
      "../databases/kegg/osa_pathway_files_from_api/path_osa01040.txt\n",
      "../databases/kegg/osa_pathway_files_from_api/path_osa00600.txt\n",
      "../databases/kegg/osa_pathway_files_from_api/path_osa03250.txt\n",
      "../databases/kegg/osa_pathway_files_from_api/path_osa00052.txt\n",
      "../databases/kegg/osa_pathway_files_from_api/path_osa03018.txt\n",
      "../databases/kegg/osa_pathway_files_from_api/path_osa00510.txt\n",
      "../databases/kegg/osa_pathway_files_from_api/path_osa00270.txt\n",
      "../databases/kegg/osa_pathway_files_from_api/path_osa00908.txt\n",
      "../databases/kegg/osa_pathway_files_from_api/path_osa00450.txt\n",
      "../databases/kegg/osa_pathway_files_from_api/path_osa01210.txt\n",
      "../databases/kegg/osa_pathway_files_from_api/path_osa00906.txt\n",
      "../databases/kegg/osa_pathway_files_from_api/path_osa04070.txt\n",
      "../databases/kegg/osa_pathway_files_from_api/path_osa01100.txt\n",
      "../databases/kegg/osa_pathway_files_from_api/path_osa00740.txt\n",
      "../databases/kegg/osa_pathway_files_from_api/path_osa00230.txt\n",
      "../databases/kegg/osa_pathway_files_from_api/path_osa00999.txt\n",
      "../databases/kegg/osa_pathway_files_from_api/path_osa00590.txt\n",
      "../databases/kegg/osa_pathway_files_from_api/path_osa00941.txt\n",
      "../databases/kegg/osa_pathway_files_from_api/path_osa00410.txt\n",
      "../databases/kegg/osa_pathway_files_from_api/path_osa01250.txt\n",
      "../databases/kegg/osa_pathway_files_from_api/path_osa00071.txt\n",
      "../databases/kegg/osa_pathway_files_from_api/path_osa03040.txt\n",
      "../databases/kegg/osa_pathway_files_from_api/path_osa04136.txt\n",
      "../databases/kegg/osa_pathway_files_from_api/path_osa00511.txt\n",
      "../databases/kegg/osa_pathway_files_from_api/path_osa00260.txt\n"
     ]
    },
    {
     "name": "stdout",
     "output_type": "stream",
     "text": [
      "../databases/kegg/osa_pathway_files_from_api/path_osa00601.txt\n",
      "../databases/kegg/osa_pathway_files_from_api/path_osa00053.txt\n",
      "../databases/kegg/osa_pathway_files_from_api/path_osa00440.txt\n",
      "../databases/kegg/osa_pathway_files_from_api/path_osa01200.txt\n",
      "../databases/kegg/osa_pathway_files_from_api/path_osa03010.txt\n",
      "../databases/kegg/osa_pathway_files_from_api/path_osa00564.txt\n",
      "../databases/kegg/osa_pathway_files_from_api/path_osa04144.txt\n"
     ]
    }
   ],
   "source": [
    "kegg_df = Groupings.get_dataframe_for_kegg(paths=kegg_paths_dictionary)\n",
    "kegg_df.to_csv(kegg_pathways_output_path, index=False)\n",
    "kegg_name_mapping = {row.pathway_id:row.pathway_name for row in kegg_df.itertuples()}\n",
    "pd.DataFrame(kegg_name_mapping.items(), columns=[\"group_id\",\"group_name\"]).to_csv(kegg_pathways_name_mapping_path, index=False)"
   ]
  },
  {
   "cell_type": "markdown",
   "metadata": {},
   "source": [
    "Lloyd and Meinke et al., 2012"
   ]
  },
  {
   "cell_type": "markdown",
   "metadata": {},
   "source": [
    "Some preprocessing on the supplemental file from Lloyd and Meinke, 2012 paper to extrac the columns used."
   ]
  },
  {
   "cell_type": "code",
   "execution_count": null,
   "metadata": {},
   "outputs": [],
   "source": [
    "df = pd.read_csv(lloyd_meinke_cleaned_supplemental_table_path_mappings)\n",
    "df.fillna(\"\", inplace=True)\n",
    "combine_columns = lambda row, columns: concatenate_with_delim(\"|\", [row[column] for column in columns])\n",
    "df[\"Alias Symbols\"] = df[\"Alias Symbols\"].apply(lambda x: replace_delimiter(text=x, old_delim=\";\", new_delim=\"|\"))\n",
    "df[\"gene_identifiers\"] = df.apply(lambda x: combine_columns(x, [\"Locus\", \"Gene Symbol\", \"Alias Symbols\", \"Full Gene Name\"]), axis=1)"
   ]
  },
  {
   "cell_type": "markdown",
   "metadata": {},
   "source": [
    "Specific to classes (more general)."
   ]
  },
  {
   "cell_type": "code",
   "execution_count": null,
   "metadata": {},
   "outputs": [],
   "source": [
    "df_class = df[[\"Phenotype Classb\", \"gene_identifiers\"]]\n",
    "df_class[\"species\"] = \"ath\"\n",
    "df_class.columns = [\"group_ids\", \"gene_identifiers\",\"species\"]\n",
    "df_class = df_class[[\"species\", \"group_ids\", \"gene_identifiers\"]]\n",
    "df_class.to_csv(lloyd_meinke_classes_output_path, index=False)"
   ]
  },
  {
   "cell_type": "markdown",
   "metadata": {},
   "source": [
    "Specific to subsets (more specific)."
   ]
  },
  {
   "cell_type": "code",
   "execution_count": null,
   "metadata": {},
   "outputs": [],
   "source": [
    "df_subset = df[[\"Phenotype Subsetsb\", \"gene_identifiers\"]]\n",
    "df_subset[\"species\"] = \"ath\"\n",
    "df_subset.columns = [\"group_ids\", \"gene_identifiers\",\"species\"]\n",
    "df_subset = df_subset[[\"species\", \"group_ids\", \"gene_identifiers\"]]\n",
    "df_subset[\"group_ids\"] = df_subset[\"group_ids\"].apply(lambda x: x.replace(\"W:\", \"\").replace(\"S:\",\"\").replace(\"(\",\",\").replace(\")\",\",\").replace(\";\",\",\"))\n",
    "df_subset[\"group_ids\"] = df_subset[\"group_ids\"].apply(lambda x: replace_delimiter(text=x, old_delim=\",\", new_delim=\"|\"))\n",
    "df_subset.to_csv(lloyd_meinke_subsets_output_path, index=False)"
   ]
  },
  {
   "cell_type": "markdown",
   "metadata": {},
   "source": [
    "Provide a mapping from subset or class IDs to the longer names that define them."
   ]
  },
  {
   "cell_type": "code",
   "execution_count": null,
   "metadata": {},
   "outputs": [],
   "source": [
    "df = pd.read_csv(lloyd_meinke_cleaned_supplemental_table_path_hierarchy)\n",
    "subset_id_to_name_dict = {row[5]:row[7] for row in df.itertuples()}\n",
    "class_id_to_name_dict = {row[3]:row[4] for row in df.itertuples()}\n",
    "pd.DataFrame(subset_id_to_name_dict.items(), columns=[\"group_id\",\"group_name\"]).to_csv(lloyd_meinke_subsets_name_mapping_path, index=False)\n",
    "pd.DataFrame(class_id_to_name_dict.items(), columns=[\"group_id\",\"group_name\"]).to_csv(lloyd_meinke_classes_name_mapping_path, index=False)"
   ]
  },
  {
   "cell_type": "markdown",
   "metadata": {},
   "source": [
    "Briefly checking whether groupings object can be successfully built from the created files.<br>\n",
    "Create actual oats.Grouping objects using those CSV files that were created previously, and quick check of the contents."
   ]
  },
  {
   "cell_type": "code",
   "execution_count": null,
   "metadata": {},
   "outputs": [],
   "source": [
    "print(Groupings(path=lloyd_meinke_subsets_output_path, name_mapping=subset_id_to_name_dict).describe())\n",
    "print(Groupings(path=lloyd_meinke_classes_output_path, name_mapping=class_id_to_name_dict).describe())\n",
    "print(Groupings(path=kegg_pathways_output_path, name_mapping=kegg_name_mapping).describe())\n",
    "print(Groupings(path=plantcyc_pathways_output_path, name_mapping=plantcyc_name_mapping).describe())"
   ]
  }
 ],
 "metadata": {
  "kernelspec": {
   "display_name": "Python 3",
   "language": "python",
   "name": "python3"
  },
  "language_info": {
   "codemirror_mode": {
    "name": "ipython",
    "version": 3
   },
   "file_extension": ".py",
   "mimetype": "text/x-python",
   "name": "python",
   "nbconvert_exporter": "python",
   "pygments_lexer": "ipython3",
   "version": "3.6.13"
  }
 },
 "nbformat": 4,
 "nbformat_minor": 2
}
