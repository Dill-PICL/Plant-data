{
 "cells": [
  {
   "cell_type": "markdown",
   "metadata": {},
   "source": [
    "## Reading in data available through the Planteome database\n",
    "The purpose of this notebook is to read in and do a preliminary survey of the data related to text and ontology annotations of text that is available through TAIR. The datasets need to be organized and also restructured into a standard format that will allow it be combined with datasets from other resources. This notebook takes the following input files that were downloaded from the TAIR and produces a set of files that have standard columns, which are listed and described below.\n",
    "\n",
    "### Files read\n",
    "```\n",
    "plant-data/databases/planteome/biological_process.txt\n",
    "plant-data/databases/planteome/cellular_component.txt\n",
    "plant-data/databases/planteome/molecular_function.txt\n",
    "plant-data/databases/planteome/plant_anatomical_entity.txt\n",
    "plant-data/databases/planteome/plant_structure_development_stage.txt\n",
    "plant-data/databases/planteome/quality.txt\n",
    "```\n",
    "\n",
    "### Files created\n",
    "```\n",
    "plant-data/reshaped_data/planteome_curated_annotations.csv\n",
    "```\n",
    "\n",
    "### Columns in the created files\n",
    "* **species**: A string indicating what species the gene is in, currently uses the 3-letter codes from the KEGG database.\n",
    "* **unique_gene_identifiers**: Pipe delimited list of gene identifiers, names, models, etc which must uniquely refer to this gene.\n",
    "* **other_gene_identifiers**: Pipe delimited list of other identifiers, names, aliases, synonyms for the gene, which may but do not have to uniquely refer to it.\n",
    "* **gene_models**: Pipe delimited list of gene model names that map to this gene.\n",
    "* **descriptions**: A free text field for any descriptions of phenotypes associated with this gene.\n",
    "* **annotations**: Pipe delimited list of gene ontology term identifiers.\n",
    "* **sources**: Pipe delimited list of strings that indicate where this data comes from such as database names."
   ]
  },
  {
   "cell_type": "code",
   "execution_count": null,
   "metadata": {},
   "outputs": [],
   "source": [
    "import sys\n",
    "import os\n",
    "import re\n",
    "import warnings\n",
    "import pandas as pd\n",
    "import numpy as np\n",
    "import itertools\n",
    "import re\n",
    "\n",
    "sys.path.append(\"../utils\")\n",
    "from constants import EVIDENCE_CODES\n",
    "\n",
    "OUTPUT_DIR = \"../reshaped_data\"\n",
    "warnings.simplefilter('ignore')\n",
    "pd.set_option('display.max_rows', 500)\n",
    "pd.set_option('display.max_columns', 500)\n",
    "pd.set_option('display.width', 1000)"
   ]
  },
  {
   "cell_type": "code",
   "execution_count": null,
   "metadata": {},
   "outputs": [],
   "source": [
    "# Creating a list of lambdas for finding gene model strings.\n",
    "gene_model_patterns = []\n",
    "gene_model_patterns.append(re.compile(\"grmzm.+\"))\n",
    "gene_model_patterns.append(re.compile(\"zm[0-9]+d[0-9]+\"))\n",
    "gene_model_patterns.append(re.compile(\"solyc[0-9]+g[0-9]+\"))\n",
    "gene_model_patterns.append(re.compile(\"at[0-9]{1}g[0-9]+\"))\n",
    "gene_model_patterns.append(re.compile(\"medtr[0-9]{1}g[0-9]+\"))\n",
    "gene_model_patterns.append(re.compile(\"os[0-9]+g[0-9]+\"))\n",
    "gene_model_patterns.append(re.compile(\"loc_os[0-9]+g[0-9]+\"))\n",
    "is_gene_model = lambda s: any([bool(pattern.match(s.lower())) for pattern in gene_model_patterns])"
   ]
  },
  {
   "cell_type": "code",
   "execution_count": null,
   "metadata": {},
   "outputs": [],
   "source": [
    "# Columns that should be in the final reshaped files.\n",
    "reshaped_columns = [\"species\", \n",
    " \"unique_gene_identifiers\", \n",
    " \"other_gene_identifiers\", \n",
    " \"gene_models\", \n",
    " \"descriptions\", \n",
    " \"annotations\", \n",
    " \"sources\"]\n",
    "\n",
    "# The files that were obtained through the Planteome browser queries.\n",
    "planteome_annotation_filepaths = [\n",
    "    \"../databases/planteome/biological_process.txt\",\n",
    "    \"../databases/planteome/cellular_component.txt\",\n",
    "    \"../databases/planteome/molecular_function.txt\",\n",
    "    \"../databases/planteome/plant_anatomical_entity.txt\",\n",
    "    \"../databases/planteome/plant_structure_development_stage.txt\",\n",
    "    \"../databases/planteome/quality.txt\"\n",
    "]\n",
    "# The fields that were included for each of those downloaded files.\n",
    "columns = [\n",
    "    \"bioentity\",\n",
    "    \"bioentity_name\",\n",
    "    \"type\",\n",
    "    \"bioentity_label\",\n",
    "    \"annotation_class\",\n",
    "    \"aspect\",\n",
    "    \"annotation_extension_json\",\n",
    "    \"taxon\",\n",
    "    \"evidence_type\",\n",
    "    \"evidence_with\",\n",
    "    \"reference\",\n",
    "    \"assigned_by\"\n",
    "]\n",
    "# Read in all the files and stack rows, because they all have the same formatting and fields.\n",
    "dfs = [pd.read_csv(path, sep=\"\\t\", names=columns) for path in planteome_annotation_filepaths]\n",
    "df = pd.concat(dfs)\n",
    "df.head(20)"
   ]
  },
  {
   "cell_type": "code",
   "execution_count": null,
   "metadata": {},
   "outputs": [],
   "source": [
    "df.tail(20)"
   ]
  },
  {
   "cell_type": "code",
   "execution_count": null,
   "metadata": {},
   "outputs": [],
   "source": [
    "# How many of each evidence type are there in this combined?\n",
    "code_quantities = {c:len([x for x in df[\"evidence_type\"] if EVIDENCE_CODES[x] in c]) for c in list(set(EVIDENCE_CODES.values()))}\n",
    "for k,v in code_quantities.items():\n",
    "    print(\"{:25}{:8}\".format(k,v))"
   ]
  },
  {
   "cell_type": "code",
   "execution_count": null,
   "metadata": {},
   "outputs": [],
   "source": [
    "df.shape"
   ]
  },
  {
   "cell_type": "code",
   "execution_count": null,
   "metadata": {},
   "outputs": [],
   "source": [
    "# Retain just the annotations that we're considering high confidence.\n",
    "high_confidence_categories = [\"experimental\",\"author_statement\",\"curator_statement\"]\n",
    "df[\"high_confidence\"] = df[\"evidence_type\"].apply(lambda x: EVIDENCE_CODES[x] in high_confidence_categories)\n",
    "df = df[df[\"high_confidence\"]]\n",
    "df.shape"
   ]
  },
  {
   "cell_type": "code",
   "execution_count": null,
   "metadata": {},
   "outputs": [],
   "source": [
    "# Taxon IDs are given in the file but we need to use the naming scheme used across files to make it compatible.\n",
    "ncbi_taxon_ids = [\"3702\",\"3847\",\"3880\",\"4081\",\"4530\",\"4577\"]\n",
    "species_name_strings = [\"ath\",\"gmx\",\"osa\",\"mtr\",\"sly\",\"zma\"]\n",
    "mapping = dict(zip(ncbi_taxon_ids,species_name_strings))\n",
    "df[\"species\"] = df[\"taxon\"].map(lambda x: mapping.get(x[-4:],None))\n",
    "df.dropna(subset=[\"species\"], axis=0, inplace=True)\n",
    "pd.unique(df[\"species\"])"
   ]
  },
  {
   "cell_type": "code",
   "execution_count": null,
   "metadata": {},
   "outputs": [],
   "source": [
    "df.shape"
   ]
  },
  {
   "cell_type": "code",
   "execution_count": null,
   "metadata": {},
   "outputs": [],
   "source": [
    "df.head(20)"
   ]
  },
  {
   "cell_type": "code",
   "execution_count": null,
   "metadata": {},
   "outputs": [],
   "source": [
    "# Formatting the gene identifier columns to be the same as the other files.\n",
    "df[\"unique_gene_identifiers\"] = df.apply(lambda row: \"{}|{}\".format(row[\"bioentity_name\"],row[\"bioentity_label\"]), axis=1)\n",
    "df[\"other_gene_identifiers\"] = \"\"\n",
    "df.head(20)"
   ]
  },
  {
   "cell_type": "code",
   "execution_count": null,
   "metadata": {},
   "outputs": [],
   "source": [
    "# Other columns that are needed.\n",
    "df[\"gene_models\"] = df[\"unique_gene_identifiers\"].map(lambda x: \"\".join([s for s in x.split(\"|\") if is_gene_model(s)]))\n",
    "df[\"descriptions\"] = \"\"\n",
    "df[\"annotations\"] = df[\"annotation_class\"]\n",
    "df[\"sources\"] = \"Planteome\""
   ]
  },
  {
   "cell_type": "code",
   "execution_count": null,
   "metadata": {},
   "outputs": [],
   "source": [
    "df[\"ontology\"] = df[\"annotation_class\"].map(lambda x: x.split(\":\")[0])\n",
    "pd.unique(df[\"ontology\"])\n",
    "df = df[df[\"ontology\"].isin([\"GO\",\"PO\",\"PATO\"])]\n",
    "df.shape"
   ]
  },
  {
   "cell_type": "code",
   "execution_count": null,
   "metadata": {},
   "outputs": [],
   "source": [
    "df = df[reshaped_columns]\n",
    "df.head(30)"
   ]
  },
  {
   "cell_type": "code",
   "execution_count": null,
   "metadata": {},
   "outputs": [],
   "source": [
    "# Outputting the dataset of annotations to a csv file.\n",
    "path = os.path.join(OUTPUT_DIR,\"planteome_curated_annotations.csv\")\n",
    "df.to_csv(path, index=False)\n",
    "df.head(30)"
   ]
  }
 ],
 "metadata": {
  "kernelspec": {
   "display_name": "Python 3",
   "language": "python",
   "name": "python3"
  },
  "language_info": {
   "codemirror_mode": {
    "name": "ipython",
    "version": 3
   },
   "file_extension": ".py",
   "mimetype": "text/x-python",
   "name": "python",
   "nbconvert_exporter": "python",
   "pygments_lexer": "ipython3",
   "version": "3.8.8"
  }
 },
 "nbformat": 4,
 "nbformat_minor": 2
}
